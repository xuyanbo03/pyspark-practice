{
 "cells": [
  {
   "cell_type": "markdown",
   "metadata": {},
   "source": [
    "# 数据处理"
   ]
  },
  {
   "cell_type": "code",
   "execution_count": 1,
   "metadata": {},
   "outputs": [],
   "source": [
    "import pyspark"
   ]
  },
  {
   "cell_type": "markdown",
   "metadata": {},
   "source": [
    "## 加载和读取数据"
   ]
  },
  {
   "cell_type": "code",
   "execution_count": 2,
   "metadata": {},
   "outputs": [],
   "source": [
    "from pyspark.sql import SparkSession\n",
    "spark = SparkSession.builder.appName('data_processing').getOrCreate()\n",
    "df = spark.read.csv('data/sample_data.csv', inferSchema=True, header=True)"
   ]
  },
  {
   "cell_type": "code",
   "execution_count": 3,
   "metadata": {},
   "outputs": [
    {
     "data": {
      "text/plain": [
       "['ratings', 'age', 'experience', 'family', 'mobile']"
      ]
     },
     "execution_count": 3,
     "metadata": {},
     "output_type": "execute_result"
    }
   ],
   "source": [
    "df.columns"
   ]
  },
  {
   "cell_type": "code",
   "execution_count": 4,
   "metadata": {},
   "outputs": [
    {
     "data": {
      "text/plain": [
       "5"
      ]
     },
     "execution_count": 4,
     "metadata": {},
     "output_type": "execute_result"
    }
   ],
   "source": [
    "len(df.columns)"
   ]
  },
  {
   "cell_type": "code",
   "execution_count": 5,
   "metadata": {},
   "outputs": [
    {
     "data": {
      "text/plain": [
       "33"
      ]
     },
     "execution_count": 5,
     "metadata": {},
     "output_type": "execute_result"
    }
   ],
   "source": [
    "df.count()"
   ]
  },
  {
   "cell_type": "code",
   "execution_count": 6,
   "metadata": {},
   "outputs": [
    {
     "name": "stdout",
     "output_type": "stream",
     "text": [
      "33 5\n"
     ]
    }
   ],
   "source": [
    "print((df.count()), (len(df.columns)))"
   ]
  },
  {
   "cell_type": "code",
   "execution_count": 7,
   "metadata": {},
   "outputs": [
    {
     "name": "stdout",
     "output_type": "stream",
     "text": [
      "root\n",
      " |-- ratings: integer (nullable = true)\n",
      " |-- age: integer (nullable = true)\n",
      " |-- experience: double (nullable = true)\n",
      " |-- family: integer (nullable = true)\n",
      " |-- mobile: string (nullable = true)\n",
      "\n"
     ]
    }
   ],
   "source": [
    "df.printSchema()"
   ]
  },
  {
   "cell_type": "code",
   "execution_count": 8,
   "metadata": {},
   "outputs": [
    {
     "name": "stdout",
     "output_type": "stream",
     "text": [
      "+-------+---+----------+------+-------+\n",
      "|ratings|age|experience|family| mobile|\n",
      "+-------+---+----------+------+-------+\n",
      "|      3| 32|       9.0|     3|   Vivo|\n",
      "|      3| 27|      13.0|     3|  Apple|\n",
      "|      4| 22|       2.5|     0|Samsung|\n",
      "|      4| 37|      16.5|     4|  Apple|\n",
      "|      5| 27|       9.0|     1|     MI|\n",
      "+-------+---+----------+------+-------+\n",
      "only showing top 5 rows\n",
      "\n"
     ]
    }
   ],
   "source": [
    "df.show(5)"
   ]
  },
  {
   "cell_type": "code",
   "execution_count": 9,
   "metadata": {},
   "outputs": [
    {
     "name": "stdout",
     "output_type": "stream",
     "text": [
      "+---+-------+\n",
      "|age| mobile|\n",
      "+---+-------+\n",
      "| 32|   Vivo|\n",
      "| 27|  Apple|\n",
      "| 22|Samsung|\n",
      "| 37|  Apple|\n",
      "| 27|     MI|\n",
      "+---+-------+\n",
      "only showing top 5 rows\n",
      "\n"
     ]
    }
   ],
   "source": [
    "df.select('age', 'mobile').show(5)"
   ]
  },
  {
   "cell_type": "code",
   "execution_count": 10,
   "metadata": {},
   "outputs": [
    {
     "name": "stdout",
     "output_type": "stream",
     "text": [
      "+-------+------------------+------------------+------------------+------------------+------+\n",
      "|summary|           ratings|               age|        experience|            family|mobile|\n",
      "+-------+------------------+------------------+------------------+------------------+------+\n",
      "|  count|                33|                33|                33|                33|    33|\n",
      "|   mean|3.5757575757575757|30.484848484848484|10.303030303030303|1.8181818181818181|  null|\n",
      "| stddev|1.1188806636071336|  6.18527087180309| 6.770731351213326|1.8448330794164254|  null|\n",
      "|    min|                 1|                22|               2.5|                 0| Apple|\n",
      "|    max|                 5|                42|              23.0|                 5|  Vivo|\n",
      "+-------+------------------+------------------+------------------+------------------+------+\n",
      "\n"
     ]
    }
   ],
   "source": [
    "df.describe().show()"
   ]
  },
  {
   "cell_type": "markdown",
   "metadata": {},
   "source": [
    "## 添加一个新列"
   ]
  },
  {
   "cell_type": "code",
   "execution_count": 11,
   "metadata": {},
   "outputs": [
    {
     "name": "stdout",
     "output_type": "stream",
     "text": [
      "+-------+---+----------+------+-------+----------------+\n",
      "|ratings|age|experience|family|mobile |age_after_10_yrs|\n",
      "+-------+---+----------+------+-------+----------------+\n",
      "|3      |32 |9.0       |3     |Vivo   |42              |\n",
      "|3      |27 |13.0      |3     |Apple  |37              |\n",
      "|4      |22 |2.5       |0     |Samsung|32              |\n",
      "|4      |37 |16.5      |4     |Apple  |47              |\n",
      "|5      |27 |9.0       |1     |MI     |37              |\n",
      "|4      |27 |9.0       |0     |Oppo   |37              |\n",
      "|5      |37 |23.0      |5     |Vivo   |47              |\n",
      "|5      |37 |23.0      |5     |Samsung|47              |\n",
      "|3      |22 |2.5       |0     |Apple  |32              |\n",
      "|3      |27 |6.0       |0     |MI     |37              |\n",
      "+-------+---+----------+------+-------+----------------+\n",
      "only showing top 10 rows\n",
      "\n"
     ]
    }
   ],
   "source": [
    "df.withColumn('age_after_10_yrs', (df['age']+10)).show(10, False)"
   ]
  },
  {
   "cell_type": "code",
   "execution_count": 12,
   "metadata": {},
   "outputs": [
    {
     "data": {
      "text/plain": [
       "DataFrame[ratings: int, age: int, experience: double, family: int, mobile: string]"
      ]
     },
     "execution_count": 12,
     "metadata": {},
     "output_type": "execute_result"
    }
   ],
   "source": [
    "# df = df.withColumn('age_after_10_yrs', (df['age']+10))\n",
    "df"
   ]
  },
  {
   "cell_type": "code",
   "execution_count": 13,
   "metadata": {},
   "outputs": [
    {
     "name": "stdout",
     "output_type": "stream",
     "text": [
      "+-------+---+----------+------+-------+----------+\n",
      "|ratings|age|experience|family|mobile |age_double|\n",
      "+-------+---+----------+------+-------+----------+\n",
      "|3      |32 |9.0       |3     |Vivo   |32.0      |\n",
      "|3      |27 |13.0      |3     |Apple  |27.0      |\n",
      "|4      |22 |2.5       |0     |Samsung|22.0      |\n",
      "|4      |37 |16.5      |4     |Apple  |37.0      |\n",
      "|5      |27 |9.0       |1     |MI     |27.0      |\n",
      "|4      |27 |9.0       |0     |Oppo   |27.0      |\n",
      "|5      |37 |23.0      |5     |Vivo   |37.0      |\n",
      "|5      |37 |23.0      |5     |Samsung|37.0      |\n",
      "|3      |22 |2.5       |0     |Apple  |22.0      |\n",
      "|3      |27 |6.0       |0     |MI     |27.0      |\n",
      "+-------+---+----------+------+-------+----------+\n",
      "only showing top 10 rows\n",
      "\n"
     ]
    }
   ],
   "source": [
    "from pyspark.sql.types import StringType, DoubleType,IntegerType\n",
    "df.withColumn('age_double', df['age'].cast(DoubleType())).show(10, False)"
   ]
  },
  {
   "cell_type": "markdown",
   "metadata": {},
   "source": [
    "## 筛选数据"
   ]
  },
  {
   "cell_type": "code",
   "execution_count": 14,
   "metadata": {},
   "outputs": [
    {
     "name": "stdout",
     "output_type": "stream",
     "text": [
      "+-------+---+----------+------+------+\n",
      "|ratings|age|experience|family|mobile|\n",
      "+-------+---+----------+------+------+\n",
      "|      3| 32|       9.0|     3|  Vivo|\n",
      "|      5| 37|      23.0|     5|  Vivo|\n",
      "|      4| 37|       6.0|     0|  Vivo|\n",
      "|      5| 37|      13.0|     1|  Vivo|\n",
      "|      4| 37|       6.0|     0|  Vivo|\n",
      "+-------+---+----------+------+------+\n",
      "\n"
     ]
    }
   ],
   "source": [
    "df.filter(df['mobile']=='Vivo').show()"
   ]
  },
  {
   "cell_type": "code",
   "execution_count": 15,
   "metadata": {},
   "outputs": [
    {
     "name": "stdout",
     "output_type": "stream",
     "text": [
      "+---+-------+------+\n",
      "|age|ratings|mobile|\n",
      "+---+-------+------+\n",
      "| 32|      3|  Vivo|\n",
      "| 37|      5|  Vivo|\n",
      "| 37|      4|  Vivo|\n",
      "| 37|      5|  Vivo|\n",
      "| 37|      4|  Vivo|\n",
      "+---+-------+------+\n",
      "\n"
     ]
    }
   ],
   "source": [
    "df.filter(df['mobile']=='Vivo').select('age','ratings','mobile').show()"
   ]
  },
  {
   "cell_type": "code",
   "execution_count": 16,
   "metadata": {},
   "outputs": [
    {
     "name": "stdout",
     "output_type": "stream",
     "text": [
      "+-------+---+----------+------+------+\n",
      "|ratings|age|experience|family|mobile|\n",
      "+-------+---+----------+------+------+\n",
      "|      5| 37|      23.0|     5|  Vivo|\n",
      "|      5| 37|      13.0|     1|  Vivo|\n",
      "+-------+---+----------+------+------+\n",
      "\n"
     ]
    }
   ],
   "source": [
    "df.filter(df['mobile']=='Vivo').filter(df['experience']>10).show()"
   ]
  },
  {
   "cell_type": "code",
   "execution_count": 17,
   "metadata": {},
   "outputs": [
    {
     "name": "stdout",
     "output_type": "stream",
     "text": [
      "+-------+---+----------+------+------+\n",
      "|ratings|age|experience|family|mobile|\n",
      "+-------+---+----------+------+------+\n",
      "|      5| 37|      23.0|     5|  Vivo|\n",
      "|      5| 37|      13.0|     1|  Vivo|\n",
      "+-------+---+----------+------+------+\n",
      "\n"
     ]
    }
   ],
   "source": [
    "df.filter((df['mobile']=='Vivo')&(df['experience']>10)).show()"
   ]
  },
  {
   "cell_type": "markdown",
   "metadata": {},
   "source": [
    "## 列中的非重复值"
   ]
  },
  {
   "cell_type": "code",
   "execution_count": 18,
   "metadata": {},
   "outputs": [
    {
     "name": "stdout",
     "output_type": "stream",
     "text": [
      "+-------+\n",
      "| mobile|\n",
      "+-------+\n",
      "|     MI|\n",
      "|   Oppo|\n",
      "|Samsung|\n",
      "|   Vivo|\n",
      "|  Apple|\n",
      "+-------+\n",
      "\n"
     ]
    }
   ],
   "source": [
    "df.select('mobile').distinct().show()"
   ]
  },
  {
   "cell_type": "code",
   "execution_count": 19,
   "metadata": {},
   "outputs": [
    {
     "data": {
      "text/plain": [
       "5"
      ]
     },
     "execution_count": 19,
     "metadata": {},
     "output_type": "execute_result"
    }
   ],
   "source": [
    "df.select('mobile').distinct().count()"
   ]
  },
  {
   "cell_type": "markdown",
   "metadata": {},
   "source": [
    "## 数据分组"
   ]
  },
  {
   "cell_type": "code",
   "execution_count": 20,
   "metadata": {},
   "outputs": [
    {
     "name": "stdout",
     "output_type": "stream",
     "text": [
      "+-------+-----+\n",
      "|mobile |count|\n",
      "+-------+-----+\n",
      "|MI     |8    |\n",
      "|Oppo   |7    |\n",
      "|Samsung|6    |\n",
      "|Vivo   |5    |\n",
      "|Apple  |7    |\n",
      "+-------+-----+\n",
      "\n"
     ]
    }
   ],
   "source": [
    "df.groupby('mobile').count().show(5, False)"
   ]
  },
  {
   "cell_type": "code",
   "execution_count": 21,
   "metadata": {},
   "outputs": [
    {
     "name": "stdout",
     "output_type": "stream",
     "text": [
      "+-------+-----+\n",
      "|mobile |count|\n",
      "+-------+-----+\n",
      "|MI     |8    |\n",
      "|Oppo   |7    |\n",
      "|Apple  |7    |\n",
      "|Samsung|6    |\n",
      "|Vivo   |5    |\n",
      "+-------+-----+\n",
      "\n"
     ]
    }
   ],
   "source": [
    "df.groupby('mobile').count().orderBy('count', ascending=False).show(5, False)"
   ]
  },
  {
   "cell_type": "code",
   "execution_count": 22,
   "metadata": {},
   "outputs": [
    {
     "name": "stdout",
     "output_type": "stream",
     "text": [
      "+-------+------------------+------------------+------------------+------------------+\n",
      "|mobile |avg(ratings)      |avg(age)          |avg(experience)   |avg(family)       |\n",
      "+-------+------------------+------------------+------------------+------------------+\n",
      "|MI     |3.5               |30.125            |10.1875           |1.375             |\n",
      "|Oppo   |2.857142857142857 |28.428571428571427|10.357142857142858|1.4285714285714286|\n",
      "|Samsung|4.166666666666667 |28.666666666666668|8.666666666666666 |1.8333333333333333|\n",
      "|Vivo   |4.2               |36.0              |11.4              |1.8               |\n",
      "|Apple  |3.4285714285714284|30.571428571428573|11.0              |2.7142857142857144|\n",
      "+-------+------------------+------------------+------------------+------------------+\n",
      "\n"
     ]
    }
   ],
   "source": [
    "df.groupby('mobile').mean().show(5, False)"
   ]
  },
  {
   "cell_type": "code",
   "execution_count": 23,
   "metadata": {},
   "outputs": [
    {
     "name": "stdout",
     "output_type": "stream",
     "text": [
      "+-------+------------+--------+---------------+-----------+\n",
      "|mobile |sum(ratings)|sum(age)|sum(experience)|sum(family)|\n",
      "+-------+------------+--------+---------------+-----------+\n",
      "|MI     |28          |241     |81.5           |11         |\n",
      "|Oppo   |20          |199     |72.5           |10         |\n",
      "|Samsung|25          |172     |52.0           |11         |\n",
      "|Vivo   |21          |180     |57.0           |9          |\n",
      "|Apple  |24          |214     |77.0           |19         |\n",
      "+-------+------------+--------+---------------+-----------+\n",
      "\n"
     ]
    }
   ],
   "source": [
    "df.groupby('mobile').sum().show(5, False)"
   ]
  },
  {
   "cell_type": "code",
   "execution_count": 24,
   "metadata": {},
   "outputs": [
    {
     "name": "stdout",
     "output_type": "stream",
     "text": [
      "+-------+------------+--------+---------------+-----------+\n",
      "|mobile |max(ratings)|max(age)|max(experience)|max(family)|\n",
      "+-------+------------+--------+---------------+-----------+\n",
      "|MI     |5           |42      |23.0           |5          |\n",
      "|Oppo   |4           |42      |23.0           |2          |\n",
      "|Samsung|5           |37      |23.0           |5          |\n",
      "|Vivo   |5           |37      |23.0           |5          |\n",
      "|Apple  |4           |37      |16.5           |5          |\n",
      "+-------+------------+--------+---------------+-----------+\n",
      "\n"
     ]
    }
   ],
   "source": [
    "df.groupby('mobile').max().show(5, False)"
   ]
  },
  {
   "cell_type": "code",
   "execution_count": 25,
   "metadata": {},
   "outputs": [
    {
     "name": "stdout",
     "output_type": "stream",
     "text": [
      "+-------+------------+--------+---------------+-----------+\n",
      "|mobile |min(ratings)|min(age)|min(experience)|min(family)|\n",
      "+-------+------------+--------+---------------+-----------+\n",
      "|MI     |1           |27      |2.5            |0          |\n",
      "|Oppo   |2           |22      |6.0            |0          |\n",
      "|Samsung|2           |22      |2.5            |0          |\n",
      "|Vivo   |3           |32      |6.0            |0          |\n",
      "|Apple  |3           |22      |2.5            |0          |\n",
      "+-------+------------+--------+---------------+-----------+\n",
      "\n"
     ]
    }
   ],
   "source": [
    "df.groupby('mobile').min().show(5, False)"
   ]
  },
  {
   "cell_type": "markdown",
   "metadata": {},
   "source": [
    "## 聚合"
   ]
  },
  {
   "cell_type": "code",
   "execution_count": 26,
   "metadata": {},
   "outputs": [
    {
     "name": "stdout",
     "output_type": "stream",
     "text": [
      "+-------+---------------+\n",
      "|mobile |sum(experience)|\n",
      "+-------+---------------+\n",
      "|MI     |81.5           |\n",
      "|Oppo   |72.5           |\n",
      "|Samsung|52.0           |\n",
      "|Vivo   |57.0           |\n",
      "|Apple  |77.0           |\n",
      "+-------+---------------+\n",
      "\n"
     ]
    }
   ],
   "source": [
    "df.groupby('mobile').agg({'experience':'sum'}).show(5, False)"
   ]
  },
  {
   "cell_type": "markdown",
   "metadata": {},
   "source": [
    "## 用户自定义函数UDF"
   ]
  },
  {
   "cell_type": "code",
   "execution_count": 27,
   "metadata": {},
   "outputs": [],
   "source": [
    "from pyspark.sql.functions import udf"
   ]
  },
  {
   "cell_type": "code",
   "execution_count": 28,
   "metadata": {},
   "outputs": [],
   "source": [
    "def price_range(brand):\n",
    "    if brand in ['Samsung', 'Apple']:\n",
    "        return 'High Price'\n",
    "    elif brand == 'MT':\n",
    "        return 'Mid Price'\n",
    "    else:\n",
    "        return 'Low Price'"
   ]
  },
  {
   "cell_type": "code",
   "execution_count": 29,
   "metadata": {},
   "outputs": [],
   "source": [
    "brand_udf = udf(price_range, StringType())"
   ]
  },
  {
   "cell_type": "code",
   "execution_count": 30,
   "metadata": {},
   "outputs": [
    {
     "name": "stdout",
     "output_type": "stream",
     "text": [
      "+-------+---+----------+------+-------+-----------+\n",
      "|ratings|age|experience|family|mobile |price_range|\n",
      "+-------+---+----------+------+-------+-----------+\n",
      "|3      |32 |9.0       |3     |Vivo   |Low Price  |\n",
      "|3      |27 |13.0      |3     |Apple  |High Price |\n",
      "|4      |22 |2.5       |0     |Samsung|High Price |\n",
      "|4      |37 |16.5      |4     |Apple  |High Price |\n",
      "|5      |27 |9.0       |1     |MI     |Low Price  |\n",
      "|4      |27 |9.0       |0     |Oppo   |Low Price  |\n",
      "|5      |37 |23.0      |5     |Vivo   |Low Price  |\n",
      "|5      |37 |23.0      |5     |Samsung|High Price |\n",
      "|3      |22 |2.5       |0     |Apple  |High Price |\n",
      "|3      |27 |6.0       |0     |MI     |Low Price  |\n",
      "+-------+---+----------+------+-------+-----------+\n",
      "only showing top 10 rows\n",
      "\n"
     ]
    }
   ],
   "source": [
    "df.withColumn('price_range', brand_udf(df['mobile'])).show(10, False)"
   ]
  },
  {
   "cell_type": "code",
   "execution_count": 31,
   "metadata": {},
   "outputs": [
    {
     "name": "stdout",
     "output_type": "stream",
     "text": [
      "+-------+---+----------+------+-------+---------+\n",
      "|ratings|age|experience|family|mobile |age_group|\n",
      "+-------+---+----------+------+-------+---------+\n",
      "|3      |32 |9.0       |3     |Vivo   |senior   |\n",
      "|3      |27 |13.0      |3     |Apple  |young    |\n",
      "|4      |22 |2.5       |0     |Samsung|young    |\n",
      "|4      |37 |16.5      |4     |Apple  |senior   |\n",
      "|5      |27 |9.0       |1     |MI     |young    |\n",
      "|4      |27 |9.0       |0     |Oppo   |young    |\n",
      "|5      |37 |23.0      |5     |Vivo   |senior   |\n",
      "|5      |37 |23.0      |5     |Samsung|senior   |\n",
      "|3      |22 |2.5       |0     |Apple  |young    |\n",
      "|3      |27 |6.0       |0     |MI     |young    |\n",
      "+-------+---+----------+------+-------+---------+\n",
      "only showing top 10 rows\n",
      "\n"
     ]
    }
   ],
   "source": [
    "age_udf = udf(lambda age: 'young' if age <= 30 else 'senior', StringType())\n",
    "df.withColumn('age_group', age_udf(df.age)).show(10, False)"
   ]
  },
  {
   "cell_type": "code",
   "execution_count": 3,
   "metadata": {},
   "outputs": [],
   "source": [
    "from pyspark.sql.functions import pandas_udf"
   ]
  },
  {
   "cell_type": "code",
   "execution_count": 8,
   "metadata": {},
   "outputs": [],
   "source": [
    "def remaining_yrs(age):\n",
    "    yrs_left = (100 - age)\n",
    "    return yrs_left\n",
    "\n",
    "from pyspark.sql.types import IntegerType\n",
    "length_udf = pandas_udf(remaining_yrs, IntegerType())"
   ]
  },
  {
   "cell_type": "code",
   "execution_count": null,
   "metadata": {},
   "outputs": [],
   "source": [
    "# df.withColumn(\"yrs_left\", length_udf(df['age'])).show(10, False)"
   ]
  },
  {
   "cell_type": "code",
   "execution_count": 7,
   "metadata": {},
   "outputs": [],
   "source": [
    "def prod(rating, exp):\n",
    "    x = rating * exp\n",
    "    return x\n",
    "\n",
    "from pyspark.sql.types import DoubleType\n",
    "prod_udf = pandas_udf(prod, DoubleType())"
   ]
  },
  {
   "cell_type": "code",
   "execution_count": null,
   "metadata": {},
   "outputs": [],
   "source": [
    "# df.withColumn(\"product\", prod_udf(df['ratings'], df['experience'])).show(10, False)"
   ]
  },
  {
   "cell_type": "markdown",
   "metadata": {},
   "source": [
    "## 去掉重复值"
   ]
  },
  {
   "cell_type": "code",
   "execution_count": 10,
   "metadata": {},
   "outputs": [
    {
     "data": {
      "text/plain": [
       "33"
      ]
     },
     "execution_count": 10,
     "metadata": {},
     "output_type": "execute_result"
    }
   ],
   "source": [
    "df.count()"
   ]
  },
  {
   "cell_type": "code",
   "execution_count": 12,
   "metadata": {},
   "outputs": [
    {
     "data": {
      "text/plain": [
       "26"
      ]
     },
     "execution_count": 12,
     "metadata": {},
     "output_type": "execute_result"
    }
   ],
   "source": [
    "df = df.dropDuplicates()\n",
    "df.count()"
   ]
  },
  {
   "cell_type": "markdown",
   "metadata": {},
   "source": [
    "## 删除列"
   ]
  },
  {
   "cell_type": "code",
   "execution_count": 13,
   "metadata": {},
   "outputs": [
    {
     "name": "stdout",
     "output_type": "stream",
     "text": [
      "+-------+---+----------+------+\n",
      "|ratings|age|experience|family|\n",
      "+-------+---+----------+------+\n",
      "|      3| 32|       9.0|     3|\n",
      "|      4| 22|       2.5|     0|\n",
      "|      5| 27|       6.0|     0|\n",
      "|      4| 22|       6.0|     1|\n",
      "|      3| 27|       6.0|     0|\n",
      "|      2| 32|      16.5|     2|\n",
      "|      4| 27|       9.0|     0|\n",
      "|      2| 27|       9.0|     2|\n",
      "|      3| 37|      16.5|     5|\n",
      "|      4| 27|       6.0|     1|\n",
      "|      5| 37|      23.0|     5|\n",
      "|      2| 27|       6.0|     2|\n",
      "|      4| 37|       6.0|     0|\n",
      "|      5| 37|      23.0|     5|\n",
      "|      4| 37|       9.0|     2|\n",
      "|      5| 37|      13.0|     1|\n",
      "|      5| 27|       2.5|     0|\n",
      "|      3| 42|      23.0|     5|\n",
      "|      5| 22|       2.5|     0|\n",
      "|      1| 37|      23.0|     5|\n",
      "+-------+---+----------+------+\n",
      "only showing top 20 rows\n",
      "\n"
     ]
    }
   ],
   "source": [
    "df_new = df.drop('mobile')\n",
    "df_new.show()"
   ]
  },
  {
   "cell_type": "markdown",
   "metadata": {},
   "source": [
    "## 写入数据"
   ]
  },
  {
   "cell_type": "code",
   "execution_count": 15,
   "metadata": {},
   "outputs": [
    {
     "name": "stderr",
     "output_type": "stream",
     "text": [
      "'pwd' 不是内部或外部命令，也不是可运行的程序\n",
      "或批处理文件。\n"
     ]
    }
   ],
   "source": [
    "!pwd"
   ]
  },
  {
   "cell_type": "code",
   "execution_count": 16,
   "metadata": {},
   "outputs": [],
   "source": [
    "write_uri = 'data/df_csv'\n",
    "df.coalesce(1).write.format('csv').option('header', 'true').save(write_uri)"
   ]
  },
  {
   "cell_type": "code",
   "execution_count": 17,
   "metadata": {},
   "outputs": [],
   "source": [
    "parquet_uri = 'data/df_parquet'\n",
    "df.write.format('parquet').save(parquet_uri)"
   ]
  },
  {
   "cell_type": "code",
   "execution_count": null,
   "metadata": {},
   "outputs": [],
   "source": []
  }
 ],
 "metadata": {
  "kernelspec": {
   "display_name": "Python 3",
   "language": "python",
   "name": "python3"
  },
  "language_info": {
   "codemirror_mode": {
    "name": "ipython",
    "version": 3
   },
   "file_extension": ".py",
   "mimetype": "text/x-python",
   "name": "python",
   "nbconvert_exporter": "python",
   "pygments_lexer": "ipython3",
   "version": "3.6.10"
  }
 },
 "nbformat": 4,
 "nbformat_minor": 4
}
