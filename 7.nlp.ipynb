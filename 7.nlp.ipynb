{
 "cells": [
  {
   "cell_type": "markdown",
   "metadata": {},
   "source": [
    "## Create spark session"
   ]
  },
  {
   "cell_type": "code",
   "execution_count": 1,
   "metadata": {},
   "outputs": [],
   "source": [
    "from pyspark.sql import SparkSession\n",
    "spark = SparkSession.builder.appName('nlp').getOrCreate()"
   ]
  },
  {
   "cell_type": "code",
   "execution_count": 2,
   "metadata": {},
   "outputs": [
    {
     "name": "stdout",
     "output_type": "stream",
     "text": [
      "+-------+------------------------------------------+\n",
      "|user_id|review                                    |\n",
      "+-------+------------------------------------------+\n",
      "|1      |I really liked this movie                 |\n",
      "|2      |I would recommend this movie to my friends|\n",
      "|3      |movie was alright but acting was horrible |\n",
      "|4      |I am never watching that movie ever again |\n",
      "+-------+------------------------------------------+\n",
      "\n"
     ]
    }
   ],
   "source": [
    "df = spark.createDataFrame(\n",
    "    [(1,'I really liked this movie'),\n",
    "     (2,'I would recommend this movie to my friends'),\n",
    "     (3,'movie was alright but acting was horrible'),\n",
    "     (4,'I am never watching that movie ever again')],\n",
    "    ['user_id','review'])\n",
    "df.show(5,False)"
   ]
  },
  {
   "cell_type": "markdown",
   "metadata": {},
   "source": [
    "## Tokenization"
   ]
  },
  {
   "cell_type": "code",
   "execution_count": 3,
   "metadata": {},
   "outputs": [
    {
     "name": "stdout",
     "output_type": "stream",
     "text": [
      "+-------+------------------------------------------+---------------------------------------------------+\n",
      "|user_id|review                                    |tokens                                             |\n",
      "+-------+------------------------------------------+---------------------------------------------------+\n",
      "|1      |I really liked this movie                 |[i, really, liked, this, movie]                    |\n",
      "|2      |I would recommend this movie to my friends|[i, would, recommend, this, movie, to, my, friends]|\n",
      "|3      |movie was alright but acting was horrible |[movie, was, alright, but, acting, was, horrible]  |\n",
      "|4      |I am never watching that movie ever again |[i, am, never, watching, that, movie, ever, again] |\n",
      "+-------+------------------------------------------+---------------------------------------------------+\n",
      "\n"
     ]
    }
   ],
   "source": [
    "from pyspark.ml.feature import Tokenizer\n",
    "tokenization = Tokenizer(inputCol='review',outputCol='tokens')\n",
    "tokenized_df = tokenization.transform(df)\n",
    "tokenized_df.show(4,False)"
   ]
  },
  {
   "cell_type": "markdown",
   "metadata": {},
   "source": [
    "## stopwords removal "
   ]
  },
  {
   "cell_type": "code",
   "execution_count": 4,
   "metadata": {},
   "outputs": [
    {
     "name": "stdout",
     "output_type": "stream",
     "text": [
      "+-------+---------------------------------------------------+----------------------------------+\n",
      "|user_id|tokens                                             |refined_tokens                    |\n",
      "+-------+---------------------------------------------------+----------------------------------+\n",
      "|1      |[i, really, liked, this, movie]                    |[really, liked, movie]            |\n",
      "|2      |[i, would, recommend, this, movie, to, my, friends]|[recommend, movie, friends]       |\n",
      "|3      |[movie, was, alright, but, acting, was, horrible]  |[movie, alright, acting, horrible]|\n",
      "|4      |[i, am, never, watching, that, movie, ever, again] |[never, watching, movie, ever]    |\n",
      "+-------+---------------------------------------------------+----------------------------------+\n",
      "\n"
     ]
    }
   ],
   "source": [
    "from pyspark.ml.feature import StopWordsRemover\n",
    "stopword_removal = StopWordsRemover(inputCol='tokens',outputCol='refined_tokens')\n",
    "refined_df = stopword_removal.transform(tokenized_df)\n",
    "refined_df.select(['user_id','tokens','refined_tokens']).show(10,False)"
   ]
  },
  {
   "cell_type": "markdown",
   "metadata": {},
   "source": [
    "## Count Vectorizer"
   ]
  },
  {
   "cell_type": "code",
   "execution_count": 5,
   "metadata": {},
   "outputs": [
    {
     "name": "stdout",
     "output_type": "stream",
     "text": [
      "+-------+----------------------------------+--------------------------------+\n",
      "|user_id|refined_tokens                    |features                        |\n",
      "+-------+----------------------------------+--------------------------------+\n",
      "|1      |[really, liked, movie]            |(11,[0,4,7],[1.0,1.0,1.0])      |\n",
      "|2      |[recommend, movie, friends]       |(11,[0,1,10],[1.0,1.0,1.0])     |\n",
      "|3      |[movie, alright, acting, horrible]|(11,[0,5,6,9],[1.0,1.0,1.0,1.0])|\n",
      "|4      |[never, watching, movie, ever]    |(11,[0,2,3,8],[1.0,1.0,1.0,1.0])|\n",
      "+-------+----------------------------------+--------------------------------+\n",
      "\n"
     ]
    }
   ],
   "source": [
    "from pyspark.ml.feature import CountVectorizer\n",
    "count_vec = CountVectorizer(inputCol='refined_tokens',outputCol='features')\n",
    "cv_df = count_vec.fit(refined_df).transform(refined_df)\n",
    "cv_df.select(['user_id','refined_tokens','features']).show(4,False)"
   ]
  },
  {
   "cell_type": "code",
   "execution_count": 6,
   "metadata": {},
   "outputs": [
    {
     "data": {
      "text/plain": [
       "['movie',\n",
       " 'horrible',\n",
       " 'liked',\n",
       " 'really',\n",
       " 'watching',\n",
       " 'alright',\n",
       " 'friends',\n",
       " 'recommend',\n",
       " 'ever',\n",
       " 'never',\n",
       " 'acting']"
      ]
     },
     "execution_count": 6,
     "metadata": {},
     "output_type": "execute_result"
    }
   ],
   "source": [
    "count_vec.fit(refined_df).vocabulary"
   ]
  },
  {
   "cell_type": "markdown",
   "metadata": {},
   "source": [
    "## Tf-idf"
   ]
  },
  {
   "cell_type": "code",
   "execution_count": 7,
   "metadata": {},
   "outputs": [
    {
     "name": "stdout",
     "output_type": "stream",
     "text": [
      "+-------+----------------------------------+-------------------------------------------------------+\n",
      "|user_id|refined_tokens                    |tf_features                                            |\n",
      "+-------+----------------------------------+-------------------------------------------------------+\n",
      "|1      |[really, liked, movie]            |(262144,[14,32675,155321],[1.0,1.0,1.0])               |\n",
      "|2      |[recommend, movie, friends]       |(262144,[129613,155321,222394],[1.0,1.0,1.0])          |\n",
      "|3      |[movie, alright, acting, horrible]|(262144,[80824,155321,236263,240286],[1.0,1.0,1.0,1.0])|\n",
      "|4      |[never, watching, movie, ever]    |(262144,[63139,155321,203802,245806],[1.0,1.0,1.0,1.0])|\n",
      "+-------+----------------------------------+-------------------------------------------------------+\n",
      "\n"
     ]
    }
   ],
   "source": [
    "from pyspark.ml.feature import HashingTF,IDF\n",
    "hashing_vec = HashingTF(inputCol='refined_tokens',outputCol='tf_features')\n",
    "hashing_df = hashing_vec.transform(refined_df)\n",
    "hashing_df.select(['user_id','refined_tokens','tf_features']).show(4,False)"
   ]
  },
  {
   "cell_type": "code",
   "execution_count": 8,
   "metadata": {},
   "outputs": [
    {
     "name": "stdout",
     "output_type": "stream",
     "text": [
      "+-------+----------------------------------------------------------------------------------------------------+\n",
      "|user_id|tf_idf_features                                                                                     |\n",
      "+-------+----------------------------------------------------------------------------------------------------+\n",
      "|1      |(262144,[14,32675,155321],[0.9162907318741551,0.9162907318741551,0.0])                              |\n",
      "|2      |(262144,[129613,155321,222394],[0.9162907318741551,0.0,0.9162907318741551])                         |\n",
      "|3      |(262144,[80824,155321,236263,240286],[0.9162907318741551,0.0,0.9162907318741551,0.9162907318741551])|\n",
      "|4      |(262144,[63139,155321,203802,245806],[0.9162907318741551,0.0,0.9162907318741551,0.9162907318741551])|\n",
      "+-------+----------------------------------------------------------------------------------------------------+\n",
      "\n"
     ]
    }
   ],
   "source": [
    "tf_idf_vec = IDF(inputCol='tf_features',outputCol='tf_idf_features')\n",
    "tf_idf_df=tf_idf_vec.fit(hashing_df).transform(hashing_df)\n",
    "tf_idf_df.select(['user_id','tf_idf_features']).show(4,False)"
   ]
  },
  {
   "cell_type": "markdown",
   "metadata": {},
   "source": [
    "## Classification "
   ]
  },
  {
   "cell_type": "code",
   "execution_count": 9,
   "metadata": {},
   "outputs": [
    {
     "name": "stdout",
     "output_type": "stream",
     "text": [
      "root\n",
      " |-- Review: string (nullable = true)\n",
      " |-- Sentiment: string (nullable = true)\n",
      "\n"
     ]
    }
   ],
   "source": [
    "text_df = spark.read.csv('data/Movie_reviews.csv', inferSchema=True, header=True, sep=',')\n",
    "text_df.printSchema()"
   ]
  },
  {
   "cell_type": "code",
   "execution_count": 10,
   "metadata": {},
   "outputs": [
    {
     "data": {
      "text/plain": [
       "7087"
      ]
     },
     "execution_count": 10,
     "metadata": {},
     "output_type": "execute_result"
    }
   ],
   "source": [
    "text_df.count()"
   ]
  },
  {
   "cell_type": "code",
   "execution_count": 11,
   "metadata": {},
   "outputs": [
    {
     "name": "stdout",
     "output_type": "stream",
     "text": [
      "+------------------------------------------------------------------------+---------+\n",
      "|Review                                                                  |Sentiment|\n",
      "+------------------------------------------------------------------------+---------+\n",
      "|I think I hate Harry Potter because it outshines much better reading mat|0        |\n",
      "|So as felicia's mom is cleaning the table, felicia grabs my keys and we |1        |\n",
      "|He's like,'YEAH I GOT ACNE AND I LOVE BROKEBACK MOUNTAIN '..            |1        |\n",
      "|This quiz sucks and Harry Potter sucks ok bye..                         |0        |\n",
      "|The Da Vinci Code is awesome..                                          |1        |\n",
      "|the people who are worth it know how much i love the da vinci code.     |1        |\n",
      "|I am going to start reading the Harry Potter series again because that i|1        |\n",
      "|I wanted desperately to love'The Da Vinci Code as a film.               |1        |\n",
      "|I don't agree with homophobes, but they have every right to say horrible|0        |\n",
      "|I hate Harry Potter.                                                    |0        |\n",
      "+------------------------------------------------------------------------+---------+\n",
      "only showing top 10 rows\n",
      "\n"
     ]
    }
   ],
   "source": [
    "from pyspark.sql.functions import rand \n",
    "text_df.orderBy(rand()).show(10,False)"
   ]
  },
  {
   "cell_type": "code",
   "execution_count": 12,
   "metadata": {},
   "outputs": [
    {
     "data": {
      "text/plain": [
       "6990"
      ]
     },
     "execution_count": 12,
     "metadata": {},
     "output_type": "execute_result"
    }
   ],
   "source": [
    "text_df = text_df.filter(((text_df.Sentiment =='1') | (text_df.Sentiment =='0')))\n",
    "text_df.count()"
   ]
  },
  {
   "cell_type": "code",
   "execution_count": 13,
   "metadata": {},
   "outputs": [
    {
     "name": "stdout",
     "output_type": "stream",
     "text": [
      "+---------+-----+\n",
      "|Sentiment|count|\n",
      "+---------+-----+\n",
      "|        0| 3081|\n",
      "|        1| 3909|\n",
      "+---------+-----+\n",
      "\n"
     ]
    }
   ],
   "source": [
    "text_df.groupBy('Sentiment').count().show()"
   ]
  },
  {
   "cell_type": "code",
   "execution_count": 14,
   "metadata": {},
   "outputs": [
    {
     "name": "stdout",
     "output_type": "stream",
     "text": [
      "+------------------------------------------------------------------------+-----+\n",
      "|Review                                                                  |Label|\n",
      "+------------------------------------------------------------------------+-----+\n",
      "|Da Vinci Code sucks be...                                               |0.0  |\n",
      "|Harry Potter is AWESOME I don't care if anyone says differently!..      |1.0  |\n",
      "|we're gonna like watch Mission Impossible or Hoot.(                     |1.0  |\n",
      "|i love being a sentry for mission impossible and a station for bonkers. |1.0  |\n",
      "|i love being a sentry for mission impossible and a station for bonkers. |1.0  |\n",
      "|MISSION IMPOSSIBLE 3 SUCKS!!..                                          |0.0  |\n",
      "|I want to be here because I love Harry Potter, and I really want a place|1.0  |\n",
      "|My dad's being stupid about brokeback mountain...                       |0.0  |\n",
      "|I like Mission Impossible movies because you never know who's on the rig|1.0  |\n",
      "|I, too, like Harry Potter..                                             |1.0  |\n",
      "+------------------------------------------------------------------------+-----+\n",
      "only showing top 10 rows\n",
      "\n"
     ]
    }
   ],
   "source": [
    "text_df = text_df.withColumn(\"Label\", text_df.Sentiment.cast('float')).drop('Sentiment')\n",
    "text_df.orderBy(rand()).show(10,False)"
   ]
  },
  {
   "cell_type": "code",
   "execution_count": 15,
   "metadata": {},
   "outputs": [
    {
     "name": "stdout",
     "output_type": "stream",
     "text": [
      "+------------------------------------------------------------------------+-----+------+\n",
      "|Review                                                                  |Label|length|\n",
      "+------------------------------------------------------------------------+-----+------+\n",
      "|The Da Vinci Code is awesome!!                                          |1.0  |30    |\n",
      "|we're gonna like watch Mission Impossible or Hoot.(                     |1.0  |51    |\n",
      "|I HATE Harry Potter.                                                    |0.0  |20    |\n",
      "|Brokeback Mountain was boring.                                          |0.0  |30    |\n",
      "|, she helped me bobbypin my insanely cool hat to my head, and she laughe|0.0  |72    |\n",
      "|I hate Harry Potter, that daniel wotshisface needs a fucking slap...    |0.0  |68    |\n",
      "|Da Vinci Code sucks.                                                    |0.0  |20    |\n",
      "|And I like Harry Potter.                                                |1.0  |24    |\n",
      "|The Da Vinci Code is awesome!!                                          |1.0  |30    |\n",
      "|Because I would like to make friends who like the same things I like, an|1.0  |72    |\n",
      "+------------------------------------------------------------------------+-----+------+\n",
      "only showing top 10 rows\n",
      "\n"
     ]
    }
   ],
   "source": [
    "from pyspark.sql.functions import length\n",
    "text_df = text_df.withColumn('length',length(text_df['Review']))\n",
    "text_df.orderBy(rand()).show(10,False)"
   ]
  },
  {
   "cell_type": "code",
   "execution_count": 16,
   "metadata": {},
   "outputs": [
    {
     "name": "stdout",
     "output_type": "stream",
     "text": [
      "+-----+-----------------+\n",
      "|Label|      avg(Length)|\n",
      "+-----+-----------------+\n",
      "|  1.0|47.61882834484523|\n",
      "|  0.0|50.95845504706264|\n",
      "+-----+-----------------+\n",
      "\n"
     ]
    }
   ],
   "source": [
    "text_df.groupBy('Label').agg({'Length':'mean'}).show()"
   ]
  },
  {
   "cell_type": "code",
   "execution_count": 17,
   "metadata": {},
   "outputs": [
    {
     "name": "stdout",
     "output_type": "stream",
     "text": [
      "+--------------------+-----+------+--------------------+\n",
      "|              Review|Label|length|              tokens|\n",
      "+--------------------+-----+------+--------------------+\n",
      "|The Da Vinci Code...|  1.0|    39|[the, da, vinci, ...|\n",
      "|this was the firs...|  1.0|    72|[this, was, the, ...|\n",
      "|i liked the Da Vi...|  1.0|    32|[i, liked, the, d...|\n",
      "|i liked the Da Vi...|  1.0|    32|[i, liked, the, d...|\n",
      "|I liked the Da Vi...|  1.0|    72|[i, liked, the, d...|\n",
      "|that's not even a...|  1.0|    72|[that's, not, eve...|\n",
      "|I loved the Da Vi...|  1.0|    72|[i, loved, the, d...|\n",
      "|i thought da vinc...|  1.0|    57|[i, thought, da, ...|\n",
      "|The Da Vinci Code...|  1.0|    45|[the, da, vinci, ...|\n",
      "|I thought the Da ...|  1.0|    51|[i, thought, the,...|\n",
      "|The Da Vinci Code...|  1.0|    68|[the, da, vinci, ...|\n",
      "|The Da Vinci Code...|  1.0|    62|[the, da, vinci, ...|\n",
      "|then I turn on th...|  1.0|    66|[then, i, turn, o...|\n",
      "|The Da Vinci Code...|  1.0|    34|[the, da, vinci, ...|\n",
      "|i love da vinci c...|  1.0|    24|[i, love, da, vin...|\n",
      "|i loved da vinci ...|  1.0|    23|[i, loved, da, vi...|\n",
      "|TO NIGHT:: THE DA...|  1.0|    52|[to, night::, the...|\n",
      "|THE DA VINCI CODE...|  1.0|    40|[the, da, vinci, ...|\n",
      "|Thing is, I enjoy...|  1.0|    38|[thing, is,, i, e...|\n",
      "|very da vinci cod...|  1.0|    38|[very, da, vinci,...|\n",
      "+--------------------+-----+------+--------------------+\n",
      "only showing top 20 rows\n",
      "\n"
     ]
    }
   ],
   "source": [
    "tokenization = Tokenizer(inputCol='Review',outputCol='tokens')\n",
    "tokenized_df = tokenization.transform(text_df)\n",
    "tokenized_df.show()"
   ]
  },
  {
   "cell_type": "code",
   "execution_count": 18,
   "metadata": {},
   "outputs": [
    {
     "name": "stdout",
     "output_type": "stream",
     "text": [
      "+--------------------+-----+------+--------------------+--------------------+\n",
      "|              Review|Label|length|              tokens|      refined_tokens|\n",
      "+--------------------+-----+------+--------------------+--------------------+\n",
      "|The Da Vinci Code...|  1.0|    39|[the, da, vinci, ...|[da, vinci, code,...|\n",
      "|this was the firs...|  1.0|    72|[this, was, the, ...|[first, clive, cu...|\n",
      "|i liked the Da Vi...|  1.0|    32|[i, liked, the, d...|[liked, da, vinci...|\n",
      "|i liked the Da Vi...|  1.0|    32|[i, liked, the, d...|[liked, da, vinci...|\n",
      "|I liked the Da Vi...|  1.0|    72|[i, liked, the, d...|[liked, da, vinci...|\n",
      "|that's not even a...|  1.0|    72|[that's, not, eve...|[even, exaggerati...|\n",
      "|I loved the Da Vi...|  1.0|    72|[i, loved, the, d...|[loved, da, vinci...|\n",
      "|i thought da vinc...|  1.0|    57|[i, thought, da, ...|[thought, da, vin...|\n",
      "|The Da Vinci Code...|  1.0|    45|[the, da, vinci, ...|[da, vinci, code,...|\n",
      "|I thought the Da ...|  1.0|    51|[i, thought, the,...|[thought, da, vin...|\n",
      "|The Da Vinci Code...|  1.0|    68|[the, da, vinci, ...|[da, vinci, code,...|\n",
      "|The Da Vinci Code...|  1.0|    62|[the, da, vinci, ...|[da, vinci, code,...|\n",
      "|then I turn on th...|  1.0|    66|[then, i, turn, o...|[turn, light, rad...|\n",
      "|The Da Vinci Code...|  1.0|    34|[the, da, vinci, ...|[da, vinci, code,...|\n",
      "|i love da vinci c...|  1.0|    24|[i, love, da, vin...|[love, da, vinci,...|\n",
      "|i loved da vinci ...|  1.0|    23|[i, loved, da, vi...|[loved, da, vinci...|\n",
      "|TO NIGHT:: THE DA...|  1.0|    52|[to, night::, the...|[night::, da, vin...|\n",
      "|THE DA VINCI CODE...|  1.0|    40|[the, da, vinci, ...|[da, vinci, code,...|\n",
      "|Thing is, I enjoy...|  1.0|    38|[thing, is,, i, e...|[thing, is,, enjo...|\n",
      "|very da vinci cod...|  1.0|    38|[very, da, vinci,...|[da, vinci, code,...|\n",
      "+--------------------+-----+------+--------------------+--------------------+\n",
      "only showing top 20 rows\n",
      "\n"
     ]
    }
   ],
   "source": [
    "stopword_removal = StopWordsRemover(inputCol='tokens',outputCol='refined_tokens')\n",
    "refined_text_df = stopword_removal.transform(tokenized_df)\n",
    "refined_text_df.show()"
   ]
  },
  {
   "cell_type": "code",
   "execution_count": 19,
   "metadata": {},
   "outputs": [],
   "source": [
    "from pyspark.sql.functions import udf\n",
    "from pyspark.sql.types import IntegerType\n",
    "from pyspark.sql.functions import *"
   ]
  },
  {
   "cell_type": "code",
   "execution_count": 20,
   "metadata": {},
   "outputs": [
    {
     "name": "stdout",
     "output_type": "stream",
     "text": [
      "+--------------------+-----+------+--------------------+--------------------+-----------+\n",
      "|              Review|Label|length|              tokens|      refined_tokens|token_count|\n",
      "+--------------------+-----+------+--------------------+--------------------+-----------+\n",
      "|I love Brokeback ...|  1.0|    26|[i, love, brokeba...|[love, brokeback,...|          3|\n",
      "|I love Brokeback ...|  1.0|    26|[i, love, brokeba...|[love, brokeback,...|          3|\n",
      "|da vinci code was...|  1.0|    37|[da, vinci, code,...|[da, vinci, code,...|          5|\n",
      "|I want to be here...|  1.0|    72|[i, want, to, be,...|[want, love, harr...|          7|\n",
      "|After I'd read Oo...|  1.0|    72|[after, i'd, read...|[read, ootp, sixt...|          7|\n",
      "|Da Vinci Code suc...|  0.0|    22|[da, vinci, code,...|[da, vinci, code,...|          4|\n",
      "|the people who ar...|  1.0|    67|[the, people, who...|[people, worth, k...|          8|\n",
      "|I love Harry Potter.|  1.0|    20|[i, love, harry, ...|[love, harry, pot...|          3|\n",
      "|The Da Vinci Code...|  1.0|    30|[the, da, vinci, ...|[da, vinci, code,...|          4|\n",
      "|I absolutely LOVE...|  1.0|    56|[i, absolutely, l...|[absolutely, love...|          6|\n",
      "+--------------------+-----+------+--------------------+--------------------+-----------+\n",
      "only showing top 10 rows\n",
      "\n"
     ]
    }
   ],
   "source": [
    "len_udf = udf(lambda s: len(s), IntegerType())\n",
    "refined_text_df = refined_text_df.withColumn(\"token_count\", len_udf(col('refined_tokens')))\n",
    "refined_text_df.orderBy(rand()).show(10)"
   ]
  },
  {
   "cell_type": "code",
   "execution_count": 21,
   "metadata": {},
   "outputs": [
    {
     "name": "stdout",
     "output_type": "stream",
     "text": [
      "+--------------------+-----------+--------------------+-----+\n",
      "|      refined_tokens|token_count|            features|Label|\n",
      "+--------------------+-----------+--------------------+-----+\n",
      "|[da, vinci, code,...|          5|(2302,[0,1,4,43,2...|  1.0|\n",
      "|[first, clive, cu...|          9|(2302,[11,51,229,...|  1.0|\n",
      "|[liked, da, vinci...|          5|(2302,[0,1,4,53,3...|  1.0|\n",
      "|[liked, da, vinci...|          5|(2302,[0,1,4,53,3...|  1.0|\n",
      "|[liked, da, vinci...|          8|(2302,[0,1,4,53,6...|  1.0|\n",
      "|[even, exaggerati...|          6|(2302,[46,229,271...|  1.0|\n",
      "|[loved, da, vinci...|          8|(2302,[0,1,22,30,...|  1.0|\n",
      "|[thought, da, vin...|          7|(2302,[0,1,4,228,...|  1.0|\n",
      "|[da, vinci, code,...|          6|(2302,[0,1,4,33,2...|  1.0|\n",
      "|[thought, da, vin...|          7|(2302,[0,1,4,223,...|  1.0|\n",
      "+--------------------+-----------+--------------------+-----+\n",
      "only showing top 10 rows\n",
      "\n"
     ]
    }
   ],
   "source": [
    "count_vec = CountVectorizer(inputCol='refined_tokens',outputCol='features')\n",
    "cv_text_df = count_vec.fit(refined_text_df).transform(refined_text_df)\n",
    "cv_text_df.select(['refined_tokens','token_count','features','Label']).show(10)"
   ]
  },
  {
   "cell_type": "code",
   "execution_count": 22,
   "metadata": {},
   "outputs": [
    {
     "name": "stdout",
     "output_type": "stream",
     "text": [
      "root\n",
      " |-- features: vector (nullable = true)\n",
      " |-- token_count: integer (nullable = true)\n",
      " |-- Label: float (nullable = true)\n",
      " |-- features_vec: vector (nullable = true)\n",
      "\n"
     ]
    }
   ],
   "source": [
    "model_text_df = cv_text_df.select(['features','token_count','Label'])\n",
    "from pyspark.ml.feature import VectorAssembler\n",
    "df_assembler = VectorAssembler(inputCols=['features','token_count'], outputCol='features_vec')\n",
    "model_text_df = df_assembler.transform(model_text_df)\n",
    "model_text_df.printSchema()"
   ]
  },
  {
   "cell_type": "code",
   "execution_count": 23,
   "metadata": {},
   "outputs": [
    {
     "name": "stdout",
     "output_type": "stream",
     "text": [
      "+-----+-----+\n",
      "|Label|count|\n",
      "+-----+-----+\n",
      "|  1.0| 2953|\n",
      "|  0.0| 2278|\n",
      "+-----+-----+\n",
      "\n"
     ]
    }
   ],
   "source": [
    "from pyspark.ml.classification import LogisticRegression\n",
    "training_df,test_df = model_text_df.randomSplit([0.75,0.25])\n",
    "training_df.groupBy('Label').count().show()"
   ]
  },
  {
   "cell_type": "code",
   "execution_count": 24,
   "metadata": {},
   "outputs": [
    {
     "name": "stdout",
     "output_type": "stream",
     "text": [
      "+-----+-----+\n",
      "|Label|count|\n",
      "+-----+-----+\n",
      "|  1.0|  956|\n",
      "|  0.0|  803|\n",
      "+-----+-----+\n",
      "\n"
     ]
    }
   ],
   "source": [
    "test_df.groupBy('Label').count().show()"
   ]
  },
  {
   "cell_type": "code",
   "execution_count": 25,
   "metadata": {},
   "outputs": [
    {
     "name": "stdout",
     "output_type": "stream",
     "text": [
      "+--------------------+-----------+-----+--------------------+--------------------+--------------------+----------+\n",
      "|            features|token_count|Label|        features_vec|       rawPrediction|         probability|prediction|\n",
      "+--------------------+-----------+-----+--------------------+--------------------+--------------------+----------+\n",
      "|(2302,[0,1,4,5,65...|          5|  1.0|(2303,[0,1,4,5,65...|[-18.432535219019...|[9.88215502628804...|       1.0|\n",
      "|(2302,[0,1,4,12,1...|         10|  1.0|(2303,[0,1,4,12,1...|[-27.159688839005...|[1.60212724915018...|       1.0|\n",
      "|(2302,[0,1,4,12,1...|          5|  1.0|(2303,[0,1,4,12,1...|[-19.953084328213...|[2.16015830113407...|       1.0|\n",
      "|(2302,[0,1,4,12,1...|          5|  1.0|(2303,[0,1,4,12,1...|[-19.953084328213...|[2.16015830113407...|       1.0|\n",
      "|(2302,[0,1,4,12,3...|          5|  1.0|(2303,[0,1,4,12,3...|[-21.236799489720...|[5.98377380278856...|       1.0|\n",
      "|(2302,[0,1,4,12,3...|          5|  1.0|(2303,[0,1,4,12,3...|[-21.236799489720...|[5.98377380278856...|       1.0|\n",
      "|(2302,[0,1,4,12,3...|          5|  1.0|(2303,[0,1,4,12,3...|[-21.236799489720...|[5.98377380278856...|       1.0|\n",
      "|(2302,[0,1,4,12,3...|          5|  1.0|(2303,[0,1,4,12,3...|[-21.236799489720...|[5.98377380278856...|       1.0|\n",
      "|(2302,[0,1,4,12,3...|          5|  1.0|(2303,[0,1,4,12,3...|[-21.236799489720...|[5.98377380278856...|       1.0|\n",
      "|(2302,[0,1,4,12,3...|          5|  1.0|(2303,[0,1,4,12,3...|[-21.236799489720...|[5.98377380278856...|       1.0|\n",
      "|(2302,[0,1,4,12,3...|          5|  1.0|(2303,[0,1,4,12,3...|[-21.236799489720...|[5.98377380278856...|       1.0|\n",
      "|(2302,[0,1,4,12,3...|          5|  1.0|(2303,[0,1,4,12,3...|[-21.236799489720...|[5.98377380278856...|       1.0|\n",
      "|(2302,[0,1,4,12,3...|          5|  1.0|(2303,[0,1,4,12,3...|[-21.236799489720...|[5.98377380278856...|       1.0|\n",
      "|(2302,[0,1,4,12,3...|          5|  1.0|(2303,[0,1,4,12,3...|[-21.236799489720...|[5.98377380278856...|       1.0|\n",
      "|(2302,[0,1,4,12,3...|          5|  1.0|(2303,[0,1,4,12,3...|[-21.236799489720...|[5.98377380278856...|       1.0|\n",
      "|(2302,[0,1,4,12,3...|          5|  1.0|(2303,[0,1,4,12,3...|[-21.236799489720...|[5.98377380278856...|       1.0|\n",
      "|(2302,[0,1,4,12,3...|          5|  1.0|(2303,[0,1,4,12,3...|[-21.236799489720...|[5.98377380278856...|       1.0|\n",
      "|(2302,[0,1,4,12,3...|          5|  1.0|(2303,[0,1,4,12,3...|[-21.236799489720...|[5.98377380278856...|       1.0|\n",
      "|(2302,[0,1,4,12,3...|          5|  1.0|(2303,[0,1,4,12,3...|[-21.236799489720...|[5.98377380278856...|       1.0|\n",
      "|(2302,[0,1,4,12,2...|          5|  1.0|(2303,[0,1,4,12,2...|[-30.990128046523...|[3.47662937978466...|       1.0|\n",
      "+--------------------+-----------+-----+--------------------+--------------------+--------------------+----------+\n",
      "only showing top 20 rows\n",
      "\n"
     ]
    }
   ],
   "source": [
    "log_reg = LogisticRegression(featuresCol='features_vec', labelCol='Label').fit(training_df)\n",
    "results = log_reg.evaluate(test_df).predictions\n",
    "results.show()"
   ]
  },
  {
   "cell_type": "code",
   "execution_count": 26,
   "metadata": {},
   "outputs": [
    {
     "name": "stdout",
     "output_type": "stream",
     "text": [
      "0.9801255230125523\n",
      "0.9669762641898865\n",
      "0.9710062535531552\n"
     ]
    }
   ],
   "source": [
    "from pyspark.ml.evaluation import BinaryClassificationEvaluator\n",
    "#confusion matrix\n",
    "true_postives = results[(results.Label == 1) & (results.prediction == 1)].count()\n",
    "true_negatives = results[(results.Label == 0) & (results.prediction == 0)].count()\n",
    "false_positives = results[(results.Label == 0) & (results.prediction == 1)].count()\n",
    "false_negatives = results[(results.Label == 1) & (results.prediction == 0)].count()\n",
    "\n",
    "recall = float(true_postives)/(true_postives + false_negatives)\n",
    "print(recall)\n",
    "\n",
    "precision = float(true_postives) / (true_postives + false_positives)\n",
    "print(precision)\n",
    "\n",
    "accuracy=float((true_postives+true_negatives) /(results.count()))\n",
    "print(accuracy)"
   ]
  },
  {
   "cell_type": "code",
   "execution_count": null,
   "metadata": {},
   "outputs": [],
   "source": []
  }
 ],
 "metadata": {
  "kernelspec": {
   "display_name": "PySpark-2.3.2",
   "language": "python",
   "name": "pyspark-2.3.2"
  },
  "language_info": {
   "codemirror_mode": {
    "name": "ipython",
    "version": 3
   },
   "file_extension": ".py",
   "mimetype": "text/x-python",
   "name": "python",
   "nbconvert_exporter": "python",
   "pygments_lexer": "ipython3",
   "version": "3.6.2"
  }
 },
 "nbformat": 4,
 "nbformat_minor": 4
}
